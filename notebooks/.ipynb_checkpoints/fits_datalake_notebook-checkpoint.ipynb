{
 "cells": [
  {
   "cell_type": "code",
   "execution_count": null,
   "metadata": {},
   "outputs": [],
   "source": [
    "#import sys\n",
    "##!{sys.executable} -m pip install PyAthena\n",
    "##!{sys.executable} -m pip install --upgrade pip"
   ]
  },
  {
   "cell_type": "code",
   "execution_count": null,
   "metadata": {},
   "outputs": [],
   "source": [
    "#from pyathena import connect\n",
    "#import pandas as pd\n",
    "\n",
    "## athena query temp directory\n",
    "#query_dir = 's3://jxudemo'\n",
    "#conn = connect(s3_staging_dir=query_dir,region_name='us-east-1')\n",
    "\n",
    "#df = pd.read_sql(\"SELECT * FROM fits_datalake.myfitsdatalakefitsextract_fitsstorebucket2b63808f_1xmr92mgt4ec3 limit 10;\", conn)\n",
    "#df"
   ]
  },
  {
   "cell_type": "code",
   "execution_count": 1,
   "metadata": {},
   "outputs": [
    {
     "name": "stdout",
     "output_type": "stream",
     "text": [
      "Starting Spark application\n"
     ]
    },
    {
     "data": {
      "text/html": [
       "<table>\n",
       "<tr><th>ID</th><th>YARN Application ID</th><th>Kind</th><th>State</th><th>Spark UI</th><th>Driver log</th><th>Current session?</th></tr><tr><td>17</td><td>application_1577769291296_0018</td><td>pyspark</td><td>idle</td><td><a target=\"_blank\" href=\"http://ip-172-32-80-107.ec2.internal:20888/proxy/application_1577769291296_0018/\">Link</a></td><td><a target=\"_blank\" href=\"http://ip-172-32-76-114.ec2.internal:8042/node/containerlogs/container_1577769291296_0018_01_000001/livy\">Link</a></td><td>✔</td></tr></table>"
      ],
      "text/plain": [
       "<IPython.core.display.HTML object>"
      ]
     },
     "metadata": {},
     "output_type": "display_data"
    },
    {
     "data": {
      "application/vnd.jupyter.widget-view+json": {
       "model_id": "",
       "version_major": 2,
       "version_minor": 0
      },
      "text/plain": [
       "FloatProgress(value=0.0, bar_style='info', description='Progress:', layout=Layout(height='25px', width='50%'),…"
      ]
     },
     "metadata": {},
     "output_type": "display_data"
    },
    {
     "name": "stdout",
     "output_type": "stream",
     "text": [
      "SparkSession available as 'spark'.\n"
     ]
    },
    {
     "data": {
      "application/vnd.jupyter.widget-view+json": {
       "model_id": "",
       "version_major": 2,
       "version_minor": 0
      },
      "text/plain": [
       "FloatProgress(value=0.0, bar_style='info', description='Progress:', layout=Layout(height='25px', width='50%'),…"
      ]
     },
     "metadata": {},
     "output_type": "display_data"
    }
   ],
   "source": [
    "import sys\n",
    "from awsglue.transforms import *\n",
    "from awsglue.utils import getResolvedOptions\n",
    "from pyspark.context import SparkContext\n",
    "from awsglue.context import GlueContext\n",
    "from awsglue.job import Job\n",
    "\n",
    "\n",
    "glueContext = GlueContext(SparkContext.getOrCreate())\n",
    "FloatProgress(value=0.0, bar_style='info', description='Progress:', layout=Layout(height='25px', width='50%'),…\n"
   ]
  },
  {
   "cell_type": "code",
   "execution_count": 2,
   "metadata": {},
   "outputs": [
    {
     "data": {
      "application/vnd.jupyter.widget-view+json": {
       "model_id": "",
       "version_major": 2,
       "version_minor": 0
      },
      "text/plain": [
       "FloatProgress(value=0.0, bar_style='info', description='Progress:', layout=Layout(height='25px', width='50%'),…"
      ]
     },
     "metadata": {},
     "output_type": "display_data"
    },
    {
     "name": "stdout",
     "output_type": "stream",
     "text": [
      "Count:  1900\n",
      "root\n",
      "|-- hdu: choice\n",
      "|    |-- long\n",
      "|    |-- string\n",
      "|-- source_bucket: string\n",
      "|-- source_key: string\n",
      "|-- card_name: string\n",
      "|-- card_value: string\n",
      "|-- card_comment: string\n",
      "|-- other: string\n",
      "|-- partition_0: string\n",
      "|-- partition_1: string\n",
      "|-- partition_2: string\n",
      "|-- col7: string\n",
      "|-- col8: string\n",
      "|-- col9: string\n",
      "|-- col10: string\n",
      "|-- col11: string"
     ]
    }
   ],
   "source": [
    "# change those to your specific names\n",
    "database_name = \"fits_datalake\"\n",
    "table_name = \"my_fits_datalake_fitsstorebucket2b63808f_1q10dnyea33k1\" \n",
    "\n",
    "header = glueContext.create_dynamic_frame.from_catalog(database=database_name, table_name=table_name)\n",
    "print (\"Count: \", header.count())\n",
    "header.printSchema()"
   ]
  },
  {
   "cell_type": "code",
   "execution_count": 16,
   "metadata": {},
   "outputs": [
    {
     "data": {
      "application/vnd.jupyter.widget-view+json": {
       "model_id": "",
       "version_major": 2,
       "version_minor": 0
      },
      "text/plain": [
       "FloatProgress(value=0.0, bar_style='info', description='Progress:', layout=Layout(height='25px', width='50%'),…"
      ]
     },
     "metadata": {},
     "output_type": "display_data"
    },
    {
     "name": "stdout",
     "output_type": "stream",
     "text": [
      "+--------------------+---------+----------------+--------------+------------+\n",
      "|          source_key|card_name|      card_value|   partition_1| partition_2|\n",
      "+--------------------+---------+----------------+--------------+------------+\n",
      "|hubble_samples/50...|   SIMPLE|            True|hubble_samples|502nmos.fits|\n",
      "|hubble_samples/50...|   BITPIX|             -32|hubble_samples|502nmos.fits|\n",
      "|hubble_samples/50...|    NAXIS|               2|hubble_samples|502nmos.fits|\n",
      "|hubble_samples/50...|   NAXIS1|            1600|hubble_samples|502nmos.fits|\n",
      "|hubble_samples/50...|   NAXIS2|            1600|hubble_samples|502nmos.fits|\n",
      "|hubble_samples/50...|   EXTEND|            True|hubble_samples|502nmos.fits|\n",
      "|hubble_samples/50...|   BSCALE|             1.0|hubble_samples|502nmos.fits|\n",
      "|hubble_samples/50...|    BZERO|             0.0|hubble_samples|502nmos.fits|\n",
      "|hubble_samples/50...|   OPSIZE|            2112|hubble_samples|502nmos.fits|\n",
      "|hubble_samples/50...|   ORIGIN|    STScI-STSDAS|hubble_samples|502nmos.fits|\n",
      "|hubble_samples/50...| FITSDATE|      2005-07-01|hubble_samples|502nmos.fits|\n",
      "|hubble_samples/50...| FILENAME| 502nmos_cvt.hhh|hubble_samples|502nmos.fits|\n",
      "|hubble_samples/50...| ALLG-MAX|             0.0|hubble_samples|502nmos.fits|\n",
      "|hubble_samples/50...| ALLG-MIN|             0.0|hubble_samples|502nmos.fits|\n",
      "|hubble_samples/50...| ODATTYPE|        FLOATING|hubble_samples|502nmos.fits|\n",
      "|hubble_samples/50...| SDASMGNU|               1|hubble_samples|502nmos.fits|\n",
      "|hubble_samples/50...|   CRVAL1| 274.71130937177|hubble_samples|502nmos.fits|\n",
      "|hubble_samples/50...|   CRVAL2|-13.816000630104|hubble_samples|502nmos.fits|\n",
      "|hubble_samples/50...|   CRPIX1|           386.5|hubble_samples|502nmos.fits|\n",
      "|hubble_samples/50...|   CRPIX2|           396.0|hubble_samples|502nmos.fits|\n",
      "+--------------------+---------+----------------+--------------+------------+\n",
      "only showing top 20 rows"
     ]
    }
   ],
   "source": [
    "short_header_df = header.toDF()['source_key', 'card_name', 'card_value', 'partition_1', 'partition_2']\n",
    "short_header_df.show()\n"
   ]
  },
  {
   "cell_type": "code",
   "execution_count": 25,
   "metadata": {},
   "outputs": [
    {
     "data": {
      "application/vnd.jupyter.widget-view+json": {
       "model_id": "",
       "version_major": 2,
       "version_minor": 0
      },
      "text/plain": [
       "FloatProgress(value=0.0, bar_style='info', description='Progress:', layout=Layout(height='25px', width='50%'),…"
      ]
     },
     "metadata": {},
     "output_type": "display_data"
    },
    {
     "name": "stdout",
     "output_type": "stream",
     "text": [
      "+--------------------+---------+--------------------+--------------+--------------------+\n",
      "|          source_key|card_name|          card_value|   partition_1|         partition_2|\n",
      "+--------------------+---------+--------------------+--------------+--------------------+\n",
      "|hubble_samples/50...|   ORIGIN|        STScI-STSDAS|hubble_samples|        502nmos.fits|\n",
      "|tutorials/HorseHe...|   ORIGIN|          STScI/MAST|     tutorials|      HorseHead.fits|\n",
      "|fits_samples/WFPC...|   ORIGIN|        STScI-STSDAS|  fits_samples|WFPC2u5780205r_c0...|\n",
      "|fits_samples/WFPC...|   ORIGIN|        STScI-STSDAS|  fits_samples|WFPC2u5780205r_c0...|\n",
      "|fits_samples/FOSy...|   ORIGIN|             ST-DADS|  fits_samples|FOSy19g0309t_c2f....|\n",
      "|fits_samples/HRSz...|   ORIGIN|             ST-DADS|  fits_samples|HRSz0yd020fm_c2f....|\n",
      "|fits_samples/WFPC...|   ORIGIN|NOAO-IRAF FITS Im...|  fits_samples|WFPC2ASSNu5780205...|\n",
      "+--------------------+---------+--------------------+--------------+--------------------+"
     ]
    }
   ],
   "source": [
    "t = short_header_df.where(\"card_name='ORIGIN'\")\n",
    "t.show()\n"
   ]
  },
  {
   "cell_type": "code",
   "execution_count": null,
   "metadata": {},
   "outputs": [],
   "source": []
  }
 ],
 "metadata": {
  "instance_type": "ml.t3.medium",
  "kernelspec": {
   "display_name": "Sparkmagic (PySpark)",
   "language": "",
   "name": "pysparkkernel"
  },
  "language_info": {
   "codemirror_mode": {
    "name": "python",
    "version": 3
   },
   "mimetype": "text/x-python",
   "name": "pyspark",
   "pygments_lexer": "python3"
  }
 },
 "nbformat": 4,
 "nbformat_minor": 4
}
